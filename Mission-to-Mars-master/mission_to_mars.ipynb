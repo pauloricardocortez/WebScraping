{
 "cells": [
  {
   "cell_type": "code",
   "execution_count": 1,
   "metadata": {},
   "outputs": [],
   "source": [
    "from splinter import Browser\n",
    "from bs4 import BeautifulSoup as bs\n",
    "import time\n",
    "import pandas as pd"
   ]
  },
  {
   "cell_type": "code",
   "execution_count": 2,
   "metadata": {},
   "outputs": [],
   "source": [
    "def init_browser():\n",
    "    executable_path = {\"executable_path\": \"chromedriver\"}\n",
    "    return Browser(\"chrome\", **executable_path, headless=False)"
   ]
  },
  {
   "cell_type": "code",
   "execution_count": 3,
   "metadata": {},
   "outputs": [
    {
     "name": "stdout",
     "output_type": "stream",
     "text": [
      "NASA's InSight Places First Instrument on Mars\n",
      "In deploying its first instrument onto the surface of Mars, the lander completes a major mission milestone.\n"
     ]
    }
   ],
   "source": [
    "browser = init_browser()\n",
    "\n",
    "#set url\n",
    "url = \"https://mars.nasa.gov/news/\"\n",
    "browser.visit(url)\n",
    "\n",
    "time.sleep(1)\n",
    "\n",
    "#scrape page into Soup\n",
    "html = browser.html\n",
    "soup = bs(html, \"html.parser\")\n",
    "\n",
    "#get headline and teaser text\n",
    "headline = soup.find(\"div\", class_=\"content_title\").text\n",
    "teaser = soup.find(\"div\", class_=\"article_teaser_body\").text\n",
    "\n",
    "print(headline)\n",
    "print(teaser)"
   ]
  },
  {
   "cell_type": "code",
   "execution_count": 4,
   "metadata": {},
   "outputs": [
    {
     "name": "stdout",
     "output_type": "stream",
     "text": [
      "https://www.jpl.nasa.gov/spaceimages/images/mediumsize/PIA22911_ip.jpg\n"
     ]
    }
   ],
   "source": [
    "#set url\n",
    "url=\"https://www.jpl.nasa.gov/spaceimages/?search=&category=Mars\"\n",
    "browser.visit(url)\n",
    "\n",
    "time.sleep(1)\n",
    "\n",
    "#scrape page into Soup\n",
    "html = browser.html\n",
    "soup = bs(html, \"html.parser\")\n",
    "\n",
    "#get full-sized featured image\n",
    "featured_img = soup.find(\"footer\")\n",
    "featured_img = featured_img.find(\"a\")[\"data-fancybox-href\"]\n",
    "featured_img = \"https://www.jpl.nasa.gov\" + featured_img\n",
    "\n",
    "print(featured_img)"
   ]
  },
  {
   "cell_type": "code",
   "execution_count": 5,
   "metadata": {},
   "outputs": [
    {
     "name": "stdout",
     "output_type": "stream",
     "text": [
      "Sol 2270 (2018-12-25), high -5C/23F, low -75C/-102F, pressure at 8.35 hPa, daylight 06:41-18:53\n"
     ]
    }
   ],
   "source": [
    "#set url\n",
    "url=\"https://twitter.com/marswxreport?lang=en\"\n",
    "browser.visit(url)\n",
    "\n",
    "time.sleep(1)\n",
    "\n",
    "#scrape page into Soup\n",
    "html = browser.html\n",
    "soup = bs(html, \"html.parser\")\n",
    "\n",
    "#get weather info\n",
    "weather = soup.find(\"p\", class_=\"tweet-text\").text\n",
    "\n",
    "print(weather)"
   ]
  },
  {
   "cell_type": "code",
   "execution_count": 6,
   "metadata": {},
   "outputs": [
    {
     "name": "stdout",
     "output_type": "stream",
     "text": [
      "<table border=\"1\" class=\"dataframe\">  <tbody>    <tr>      <th>Equatorial Diameter:</th>      <td>6,792 km</td>    </tr>    <tr>      <th>Polar Diameter:</th>      <td>6,752 km</td>    </tr>    <tr>      <th>Mass:</th>      <td>6.42 x 10^23 kg (10.7% Earth)</td>    </tr>    <tr>      <th>Moons:</th>      <td>2 (Phobos &amp; Deimos)</td>    </tr>    <tr>      <th>Orbit Distance:</th>      <td>227,943,824 km (1.52 AU)</td>    </tr>    <tr>      <th>Orbit Period:</th>      <td>687 days (1.9 years)</td>    </tr>    <tr>      <th>Surface Temperature:</th>      <td>-153 to 20 °C</td>    </tr>    <tr>      <th>First Record:</th>      <td>2nd millennium BC</td>    </tr>    <tr>      <th>Recorded By:</th>      <td>Egyptian astronomers</td>    </tr>  </tbody></table>\n"
     ]
    }
   ],
   "source": [
    "#set url\n",
    "url=\"https://space-facts.com/mars/\"\n",
    "\n",
    "#scrape table with pandas\n",
    "tables = pd.read_html(url)\n",
    "mars_df = tables[0]\n",
    "#set index\n",
    "mars_df = mars_df.set_index(0)\n",
    "\n",
    "#convert to html\n",
    "mars_table = mars_df.to_html(header=False)\n",
    "mars_table = mars_table.replace('\\n', '')\n",
    "\n",
    "print(mars_table)"
   ]
  },
  {
   "cell_type": "code",
   "execution_count": 7,
   "metadata": {},
   "outputs": [
    {
     "name": "stdout",
     "output_type": "stream",
     "text": [
      "['Cerberus Hemisphere', 'Schiaparelli Hemisphere', 'Syrtis Major Hemisphere', 'Valles Marineris Hemisphere']\n"
     ]
    }
   ],
   "source": [
    "#set url\n",
    "url=\"http://web.archive.org/web/20181114171728/https://astrogeology.usgs.gov/search/results?q=hemisphere+enhanced&k1=target&v1=Mars\"\n",
    "browser.visit(url)\n",
    "\n",
    "time.sleep(1)\n",
    "\n",
    "#scrape page into Soup\n",
    "html = browser.html\n",
    "soup = bs(html, \"html.parser\")\n",
    "\n",
    "#find hemisphere titles\n",
    "h3s = soup.find_all(\"h3\")\n",
    "hemispheres = [result.text[:-9] for result in h3s]\n",
    "\n",
    "print(hemispheres)"
   ]
  },
  {
   "cell_type": "code",
   "execution_count": 8,
   "metadata": {},
   "outputs": [
    {
     "name": "stdout",
     "output_type": "stream",
     "text": [
      "['http://web.archive.org/web/20181114182238/http://astropedia.astrogeology.usgs.gov/download/Mars/Viking/cerberus_enhanced.tif/full.jpg', 'http://web.archive.org/web/20181114182242/http://astropedia.astrogeology.usgs.gov/download/Mars/Viking/schiaparelli_enhanced.tif/full.jpg', 'http://web.archive.org/web/20181114182245/http://astropedia.astrogeology.usgs.gov/download/Mars/Viking/syrtis_major_enhanced.tif/full.jpg', 'http://web.archive.org/web/20181114182248/http://astropedia.astrogeology.usgs.gov/download/Mars/Viking/valles_marineris_enhanced.tif/full.jpg']\n"
     ]
    }
   ],
   "source": [
    "#set empty list for hemisphere images\n",
    "hemisphere_imgs = []\n",
    "\n",
    "for hemisphere in hemispheres:\n",
    "    #click hemisphere link\n",
    "    browser.click_link_by_partial_text(hemisphere)\n",
    "\n",
    "    time.sleep(1)\n",
    "    \n",
    "    #scrape page into soup\n",
    "    html = browser.html\n",
    "    soup = bs(html, 'html.parser')\n",
    "\n",
    "    #find hemisphere images\n",
    "    hemisphere_img = soup.find(\"div\", class_=\"downloads\")\n",
    "    hemisphere_img = hemisphere_img.find(\"a\")[\"href\"]\n",
    "    #add img to list\n",
    "    hemipshere_imgs = hemisphere_imgs.append(hemisphere_img)\n",
    "\n",
    "    #reset url\n",
    "    url=\"http://web.archive.org/web/20181114171728/https://astrogeology.usgs.gov/search/results?q=hemisphere+enhanced&k1=target&v1=Mars\"\n",
    "    browser.visit(url)\n",
    "    \n",
    "print(hemisphere_imgs)"
   ]
  },
  {
   "cell_type": "code",
   "execution_count": null,
   "metadata": {},
   "outputs": [],
   "source": [
    "#create dict of hemisphere info\n",
    "hemisphere_df = pd.DataFrame({\"img_url\": hemisphere_imgs, \"title\": hemispheres})\n",
    "hemisphere_dict = hemisphere_df.to_dict(\"records\")\n",
    "\n",
    "print(hemisphere_dict)"
   ]
  },
  {
   "cell_type": "code",
   "execution_count": null,
   "metadata": {},
   "outputs": [],
   "source": [
    "########\n",
    "#set url\n",
    "url = \"https://www.google.com/search?q=mars\"\n",
    "browser.visit(url)\n",
    "\n",
    "time.sleep(1)\n",
    "\n",
    "#scrape page into Soup\n",
    "html = browser.html\n",
    "soup = bs(html, \"html.parser\")\n",
    "\n",
    "#find summary\n",
    "summary = soup.find(\"div\", class_ = \"SALvLe farUxc mJ2Mod\")\n",
    "summary = summary.find(\"span\").text\n",
    "summary"
   ]
  },
  {
   "cell_type": "code",
   "execution_count": null,
   "metadata": {},
   "outputs": [],
   "source": [
    "#create dict of all mars info\n",
    "mars_data = {\n",
    "    \"headline\": headline, \n",
    "    \"teaser\": teaser,\n",
    "    \"feat_img\": featured_img, \n",
    "    \"weather\": weather, \n",
    "    \"facts\": mars_table, \n",
    "    \"hemispheres\": hemisphere_dict,\n",
    "    \"summary\": summary\n",
    "}\n",
    "\n",
    "# Close the browser after scraping\n",
    "browser.quit()\n",
    "\n",
    "for i in mars_data:\n",
    "    print(i)\n",
    "    print(mars_data[i])"
   ]
  },
  {
   "cell_type": "code",
   "execution_count": null,
   "metadata": {},
   "outputs": [],
   "source": []
  }
 ],
 "metadata": {
  "kernelspec": {
   "display_name": "Python 3",
   "language": "python",
   "name": "python3"
  },
  "language_info": {
   "codemirror_mode": {
    "name": "ipython",
    "version": 3
   },
   "file_extension": ".py",
   "mimetype": "text/x-python",
   "name": "python",
   "nbconvert_exporter": "python",
   "pygments_lexer": "ipython3",
   "version": "3.6.5"
  }
 },
 "nbformat": 4,
 "nbformat_minor": 2
}
